{
 "cells": [
  {
   "cell_type": "markdown",
   "metadata": {},
   "source": [
    "# Section 1 : Business Understanding\n",
    "We will analyze Seattle AirBnB data using a basic Random Forest Regressor to try to answer 3 main questions: \n",
    "1. What is the main factors that drive the listing price ? \n",
    "2. Does the location of the property affect the price ? \n",
    "3. Does the time of the booking affect the price ? "
   ]
  },
  {
   "cell_type": "markdown",
   "metadata": {},
   "source": [
    "# Section 2 : Data Understanding\n"
   ]
  },
  {
   "cell_type": "markdown",
   "metadata": {},
   "source": [
    "### Reading the data and importing package\n",
    "We will use only 2 files in the dataset : listings.csv which contains the information about the property, and calendar.csv which is the transactional table that contains time and price of the booking. There is another file in the dataset (reviews.csv) but we will not use here since it require NLP techniques which are not covered in the scope of this project"
   ]
  },
  {
   "cell_type": "code",
   "execution_count": 1,
   "metadata": {},
   "outputs": [],
   "source": [
    "#Imports\n",
    "\n",
    "import os\n",
    "os.getcwd()\n",
    "os.chdir('G:\\SeatleAirBnbData')\n",
    "\n",
    "#Import linear algebra and data manipulation\n",
    "import numpy as np\n",
    "import pandas as pd\n",
    "\n",
    "#Import plotting packages\n",
    "import matplotlib.pyplot as plt\n",
    "%matplotlib inline\n",
    "import seaborn as sns\n",
    "import datetime\n",
    "#Import machine learning\n",
    "from sklearn.linear_model import LinearRegression\n",
    "from sklearn.ensemble import RandomForestRegressor\n",
    "from sklearn.model_selection import train_test_split #split\n",
    "from sklearn.metrics import r2_score, mean_squared_error #metrics"
   ]
  },
  {
   "cell_type": "code",
   "execution_count": 2,
   "metadata": {},
   "outputs": [],
   "source": [
    "calendar_df = pd.read_csv('../SeatleAirBnbData/calendar.csv')\n",
    "listing_df = pd.read_csv('../SeatleAirBnbData/listings.csv')"
   ]
  },
  {
   "cell_type": "markdown",
   "metadata": {},
   "source": [
    "### Feature Engineering"
   ]
  },
  {
   "cell_type": "markdown",
   "metadata": {},
   "source": [
    "### Listing table\n",
    "First let's take a look at the categorical features"
   ]
  },
  {
   "cell_type": "code",
   "execution_count": 3,
   "metadata": {},
   "outputs": [
    {
     "data": {
      "text/html": [
       "<div>\n",
       "<style scoped>\n",
       "    .dataframe tbody tr th:only-of-type {\n",
       "        vertical-align: middle;\n",
       "    }\n",
       "\n",
       "    .dataframe tbody tr th {\n",
       "        vertical-align: top;\n",
       "    }\n",
       "\n",
       "    .dataframe thead th {\n",
       "        text-align: right;\n",
       "    }\n",
       "</style>\n",
       "<table border=\"1\" class=\"dataframe\">\n",
       "  <thead>\n",
       "    <tr style=\"text-align: right;\">\n",
       "      <th></th>\n",
       "      <th>count</th>\n",
       "      <th>unique</th>\n",
       "      <th>top</th>\n",
       "      <th>freq</th>\n",
       "    </tr>\n",
       "  </thead>\n",
       "  <tbody>\n",
       "    <tr>\n",
       "      <th>listing_url</th>\n",
       "      <td>3818</td>\n",
       "      <td>3818</td>\n",
       "      <td>https://www.airbnb.com/rooms/3732103</td>\n",
       "      <td>1</td>\n",
       "    </tr>\n",
       "    <tr>\n",
       "      <th>last_scraped</th>\n",
       "      <td>3818</td>\n",
       "      <td>1</td>\n",
       "      <td>2016-01-04</td>\n",
       "      <td>3818</td>\n",
       "    </tr>\n",
       "    <tr>\n",
       "      <th>name</th>\n",
       "      <td>3818</td>\n",
       "      <td>3792</td>\n",
       "      <td>Capitol Hill Apartment</td>\n",
       "      <td>3</td>\n",
       "    </tr>\n",
       "    <tr>\n",
       "      <th>summary</th>\n",
       "      <td>3641</td>\n",
       "      <td>3478</td>\n",
       "      <td>This is a modern fully-furnished studio apartm...</td>\n",
       "      <td>15</td>\n",
       "    </tr>\n",
       "    <tr>\n",
       "      <th>space</th>\n",
       "      <td>3249</td>\n",
       "      <td>3119</td>\n",
       "      <td>*Note: This fall, there will be major renovati...</td>\n",
       "      <td>14</td>\n",
       "    </tr>\n",
       "    <tr>\n",
       "      <th>...</th>\n",
       "      <td>...</td>\n",
       "      <td>...</td>\n",
       "      <td>...</td>\n",
       "      <td>...</td>\n",
       "    </tr>\n",
       "    <tr>\n",
       "      <th>jurisdiction_names</th>\n",
       "      <td>3818</td>\n",
       "      <td>1</td>\n",
       "      <td>WASHINGTON</td>\n",
       "      <td>3818</td>\n",
       "    </tr>\n",
       "    <tr>\n",
       "      <th>instant_bookable</th>\n",
       "      <td>3818</td>\n",
       "      <td>2</td>\n",
       "      <td>f</td>\n",
       "      <td>3227</td>\n",
       "    </tr>\n",
       "    <tr>\n",
       "      <th>cancellation_policy</th>\n",
       "      <td>3818</td>\n",
       "      <td>3</td>\n",
       "      <td>strict</td>\n",
       "      <td>1417</td>\n",
       "    </tr>\n",
       "    <tr>\n",
       "      <th>require_guest_profile_picture</th>\n",
       "      <td>3818</td>\n",
       "      <td>2</td>\n",
       "      <td>f</td>\n",
       "      <td>3497</td>\n",
       "    </tr>\n",
       "    <tr>\n",
       "      <th>require_guest_phone_verification</th>\n",
       "      <td>3818</td>\n",
       "      <td>2</td>\n",
       "      <td>f</td>\n",
       "      <td>3443</td>\n",
       "    </tr>\n",
       "  </tbody>\n",
       "</table>\n",
       "<p>62 rows × 4 columns</p>\n",
       "</div>"
      ],
      "text/plain": [
       "                                 count unique  \\\n",
       "listing_url                       3818   3818   \n",
       "last_scraped                      3818      1   \n",
       "name                              3818   3792   \n",
       "summary                           3641   3478   \n",
       "space                             3249   3119   \n",
       "...                                ...    ...   \n",
       "jurisdiction_names                3818      1   \n",
       "instant_bookable                  3818      2   \n",
       "cancellation_policy               3818      3   \n",
       "require_guest_profile_picture     3818      2   \n",
       "require_guest_phone_verification  3818      2   \n",
       "\n",
       "                                                                                top  \\\n",
       "listing_url                                    https://www.airbnb.com/rooms/3732103   \n",
       "last_scraped                                                             2016-01-04   \n",
       "name                                                         Capitol Hill Apartment   \n",
       "summary                           This is a modern fully-furnished studio apartm...   \n",
       "space                             *Note: This fall, there will be major renovati...   \n",
       "...                                                                             ...   \n",
       "jurisdiction_names                                                       WASHINGTON   \n",
       "instant_bookable                                                                  f   \n",
       "cancellation_policy                                                          strict   \n",
       "require_guest_profile_picture                                                     f   \n",
       "require_guest_phone_verification                                                  f   \n",
       "\n",
       "                                  freq  \n",
       "listing_url                          1  \n",
       "last_scraped                      3818  \n",
       "name                                 3  \n",
       "summary                             15  \n",
       "space                               14  \n",
       "...                                ...  \n",
       "jurisdiction_names                3818  \n",
       "instant_bookable                  3227  \n",
       "cancellation_policy               1417  \n",
       "require_guest_profile_picture     3497  \n",
       "require_guest_phone_verification  3443  \n",
       "\n",
       "[62 rows x 4 columns]"
      ]
     },
     "execution_count": 3,
     "metadata": {},
     "output_type": "execute_result"
    }
   ],
   "source": [
    "df2 = listing_df.describe(include = ['object']).transpose()\n",
    "df2"
   ]
  },
  {
   "cell_type": "markdown",
   "metadata": {},
   "source": [
    "We can see that there are some categorical features which has only 1 unique value. We should drop these as they provide no information to our model. "
   ]
  },
  {
   "cell_type": "code",
   "execution_count": 4,
   "metadata": {},
   "outputs": [],
   "source": [
    "df3 = df2.loc[df2['unique'] == 1 ] # filtering categorical columns for those with only 1 unique values\n",
    "only_one_unique= df3.index\n",
    "listing_df_clean = listing_df.drop(only_one_unique, axis=1)"
   ]
  },
  {
   "cell_type": "markdown",
   "metadata": {},
   "source": [
    "Also there are some \"url\" features, which are often unique urls for the listings. We can drop these as the information here is not really relevant"
   ]
  },
  {
   "cell_type": "code",
   "execution_count": 5,
   "metadata": {},
   "outputs": [],
   "source": [
    "#dropping \"url\" columns\n",
    "url_col = []\n",
    "for col in listing_df.columns:\n",
    "    if \"url\" in col: \n",
    "        url_col.append(col)\n",
    "listing_df_clean = listing_df_clean.drop(url_col, axis=1)"
   ]
  },
  {
   "cell_type": "markdown",
   "metadata": {},
   "source": [
    "Sanity check"
   ]
  },
  {
   "cell_type": "code",
   "execution_count": 6,
   "metadata": {
    "scrolled": true
   },
   "outputs": [
    {
     "data": {
      "text/html": [
       "<div>\n",
       "<style scoped>\n",
       "    .dataframe tbody tr th:only-of-type {\n",
       "        vertical-align: middle;\n",
       "    }\n",
       "\n",
       "    .dataframe tbody tr th {\n",
       "        vertical-align: top;\n",
       "    }\n",
       "\n",
       "    .dataframe thead th {\n",
       "        text-align: right;\n",
       "    }\n",
       "</style>\n",
       "<table border=\"1\" class=\"dataframe\">\n",
       "  <thead>\n",
       "    <tr style=\"text-align: right;\">\n",
       "      <th></th>\n",
       "      <th>name</th>\n",
       "      <th>summary</th>\n",
       "      <th>space</th>\n",
       "      <th>description</th>\n",
       "      <th>neighborhood_overview</th>\n",
       "      <th>notes</th>\n",
       "      <th>transit</th>\n",
       "      <th>host_name</th>\n",
       "      <th>host_since</th>\n",
       "      <th>host_location</th>\n",
       "      <th>...</th>\n",
       "      <th>security_deposit</th>\n",
       "      <th>cleaning_fee</th>\n",
       "      <th>extra_people</th>\n",
       "      <th>calendar_updated</th>\n",
       "      <th>first_review</th>\n",
       "      <th>last_review</th>\n",
       "      <th>instant_bookable</th>\n",
       "      <th>cancellation_policy</th>\n",
       "      <th>require_guest_profile_picture</th>\n",
       "      <th>require_guest_phone_verification</th>\n",
       "    </tr>\n",
       "  </thead>\n",
       "  <tbody>\n",
       "    <tr>\n",
       "      <th>count</th>\n",
       "      <td>3818</td>\n",
       "      <td>3641</td>\n",
       "      <td>3249</td>\n",
       "      <td>3818</td>\n",
       "      <td>2786</td>\n",
       "      <td>2212</td>\n",
       "      <td>2884</td>\n",
       "      <td>3816</td>\n",
       "      <td>3816</td>\n",
       "      <td>3810</td>\n",
       "      <td>...</td>\n",
       "      <td>1866</td>\n",
       "      <td>2788</td>\n",
       "      <td>3818</td>\n",
       "      <td>3818</td>\n",
       "      <td>3191</td>\n",
       "      <td>3191</td>\n",
       "      <td>3818</td>\n",
       "      <td>3818</td>\n",
       "      <td>3818</td>\n",
       "      <td>3818</td>\n",
       "    </tr>\n",
       "    <tr>\n",
       "      <th>unique</th>\n",
       "      <td>3792</td>\n",
       "      <td>3478</td>\n",
       "      <td>3119</td>\n",
       "      <td>3742</td>\n",
       "      <td>2506</td>\n",
       "      <td>1999</td>\n",
       "      <td>2574</td>\n",
       "      <td>1466</td>\n",
       "      <td>1380</td>\n",
       "      <td>120</td>\n",
       "      <td>...</td>\n",
       "      <td>46</td>\n",
       "      <td>118</td>\n",
       "      <td>45</td>\n",
       "      <td>34</td>\n",
       "      <td>984</td>\n",
       "      <td>321</td>\n",
       "      <td>2</td>\n",
       "      <td>3</td>\n",
       "      <td>2</td>\n",
       "      <td>2</td>\n",
       "    </tr>\n",
       "    <tr>\n",
       "      <th>top</th>\n",
       "      <td>Capitol Hill Apartment</td>\n",
       "      <td>This is a modern fully-furnished studio apartm...</td>\n",
       "      <td>*Note: This fall, there will be major renovati...</td>\n",
       "      <td>Our space is a mix of a hostel and a home. We ...</td>\n",
       "      <td>Wallingford is a mostly-residential neighborho...</td>\n",
       "      <td>All of our rentals are fully licensed and regu...</td>\n",
       "      <td>Convenient public transportation. The location...</td>\n",
       "      <td>Andrew</td>\n",
       "      <td>2013-08-30</td>\n",
       "      <td>Seattle, Washington, United States</td>\n",
       "      <td>...</td>\n",
       "      <td>$100.00</td>\n",
       "      <td>$50.00</td>\n",
       "      <td>$0.00</td>\n",
       "      <td>today</td>\n",
       "      <td>2015-09-21</td>\n",
       "      <td>2016-01-02</td>\n",
       "      <td>f</td>\n",
       "      <td>strict</td>\n",
       "      <td>f</td>\n",
       "      <td>f</td>\n",
       "    </tr>\n",
       "    <tr>\n",
       "      <th>freq</th>\n",
       "      <td>3</td>\n",
       "      <td>15</td>\n",
       "      <td>14</td>\n",
       "      <td>10</td>\n",
       "      <td>17</td>\n",
       "      <td>39</td>\n",
       "      <td>32</td>\n",
       "      <td>56</td>\n",
       "      <td>51</td>\n",
       "      <td>3259</td>\n",
       "      <td>...</td>\n",
       "      <td>348</td>\n",
       "      <td>310</td>\n",
       "      <td>2048</td>\n",
       "      <td>706</td>\n",
       "      <td>25</td>\n",
       "      <td>94</td>\n",
       "      <td>3227</td>\n",
       "      <td>1417</td>\n",
       "      <td>3497</td>\n",
       "      <td>3443</td>\n",
       "    </tr>\n",
       "  </tbody>\n",
       "</table>\n",
       "<p>4 rows × 45 columns</p>\n",
       "</div>"
      ],
      "text/plain": [
       "                          name  \\\n",
       "count                     3818   \n",
       "unique                    3792   \n",
       "top     Capitol Hill Apartment   \n",
       "freq                         3   \n",
       "\n",
       "                                                  summary  \\\n",
       "count                                                3641   \n",
       "unique                                               3478   \n",
       "top     This is a modern fully-furnished studio apartm...   \n",
       "freq                                                   15   \n",
       "\n",
       "                                                    space  \\\n",
       "count                                                3249   \n",
       "unique                                               3119   \n",
       "top     *Note: This fall, there will be major renovati...   \n",
       "freq                                                   14   \n",
       "\n",
       "                                              description  \\\n",
       "count                                                3818   \n",
       "unique                                               3742   \n",
       "top     Our space is a mix of a hostel and a home. We ...   \n",
       "freq                                                   10   \n",
       "\n",
       "                                    neighborhood_overview  \\\n",
       "count                                                2786   \n",
       "unique                                               2506   \n",
       "top     Wallingford is a mostly-residential neighborho...   \n",
       "freq                                                   17   \n",
       "\n",
       "                                                    notes  \\\n",
       "count                                                2212   \n",
       "unique                                               1999   \n",
       "top     All of our rentals are fully licensed and regu...   \n",
       "freq                                                   39   \n",
       "\n",
       "                                                  transit host_name  \\\n",
       "count                                                2884      3816   \n",
       "unique                                               2574      1466   \n",
       "top     Convenient public transportation. The location...    Andrew   \n",
       "freq                                                   32        56   \n",
       "\n",
       "        host_since                       host_location  ... security_deposit  \\\n",
       "count         3816                                3810  ...             1866   \n",
       "unique        1380                                 120  ...               46   \n",
       "top     2013-08-30  Seattle, Washington, United States  ...          $100.00   \n",
       "freq            51                                3259  ...              348   \n",
       "\n",
       "       cleaning_fee extra_people calendar_updated first_review last_review  \\\n",
       "count          2788         3818             3818         3191        3191   \n",
       "unique          118           45               34          984         321   \n",
       "top          $50.00        $0.00            today   2015-09-21  2016-01-02   \n",
       "freq            310         2048              706           25          94   \n",
       "\n",
       "       instant_bookable cancellation_policy require_guest_profile_picture  \\\n",
       "count              3818                3818                          3818   \n",
       "unique                2                   3                             2   \n",
       "top                   f              strict                             f   \n",
       "freq               3227                1417                          3497   \n",
       "\n",
       "       require_guest_phone_verification  \n",
       "count                              3818  \n",
       "unique                                2  \n",
       "top                                   f  \n",
       "freq                               3443  \n",
       "\n",
       "[4 rows x 45 columns]"
      ]
     },
     "execution_count": 6,
     "metadata": {},
     "output_type": "execute_result"
    }
   ],
   "source": [
    "listing_df_clean.describe(include = 'object')"
   ]
  },
  {
   "cell_type": "markdown",
   "metadata": {},
   "source": [
    "We will drop name, summary, space, description, neighborhood_overview, notes, transit, host_name first since the information here are generally not very useful (name and host_name could be anything and we will need NLP technique to utilize notes or description, which again will not be covered here )"
   ]
  },
  {
   "cell_type": "code",
   "execution_count": 7,
   "metadata": {},
   "outputs": [],
   "source": [
    "listing_df_clean = listing_df_clean.drop (['name', 'summary', 'space', 'description', \n",
    "                        'neighborhood_overview', 'notes', 'transit', 'host_name','calendar_updated'], axis = 1)"
   ]
  },
  {
   "cell_type": "markdown",
   "metadata": {},
   "source": [
    "State, city and smart_location ( which is nothing but a combination of state and city) should contain only “WA” and “Seattle”, which should be filtered out from the beginning. Let's see why"
   ]
  },
  {
   "cell_type": "code",
   "execution_count": 8,
   "metadata": {},
   "outputs": [
    {
     "data": {
      "text/plain": [
       "WA    3817\n",
       "wa       1\n",
       "Name: state, dtype: int64"
      ]
     },
     "execution_count": 8,
     "metadata": {},
     "output_type": "execute_result"
    }
   ],
   "source": [
    "listing_df_clean['state'].value_counts()"
   ]
  },
  {
   "cell_type": "code",
   "execution_count": 9,
   "metadata": {},
   "outputs": [
    {
     "data": {
      "text/plain": [
       "Seattle                  3810\n",
       "Seattle                     2\n",
       "West Seattle                2\n",
       "Ballard, Seattle            1\n",
       "西雅图                         1\n",
       "seattle                     1\n",
       "Phinney Ridge Seattle       1\n",
       "Name: city, dtype: int64"
      ]
     },
     "execution_count": 9,
     "metadata": {},
     "output_type": "execute_result"
    }
   ],
   "source": [
    "listing_df_clean['city'].value_counts()"
   ]
  },
  {
   "cell_type": "code",
   "execution_count": 10,
   "metadata": {},
   "outputs": [
    {
     "data": {
      "text/plain": [
       "Seattle, WA                  3810\n",
       "Seattle , WA                    2\n",
       "West Seattle, WA                2\n",
       "Ballard, Seattle, WA            1\n",
       "Phinney Ridge Seattle, WA       1\n",
       "西雅图, WA                         1\n",
       "seattle, wa                     1\n",
       "Name: smart_location, dtype: int64"
      ]
     },
     "execution_count": 10,
     "metadata": {},
     "output_type": "execute_result"
    }
   ],
   "source": [
    "listing_df_clean['smart_location'].value_counts()"
   ]
  },
  {
   "cell_type": "markdown",
   "metadata": {},
   "source": [
    "It looks like some formatting errors and/or data entry error. We can safely remove these columns"
   ]
  },
  {
   "cell_type": "code",
   "execution_count": 11,
   "metadata": {},
   "outputs": [],
   "source": [
    "listing_df_clean = listing_df_clean.drop (['city','state', 'smart_location'], axis = 1)"
   ]
  },
  {
   "cell_type": "markdown",
   "metadata": {},
   "source": [
    "host_location & host_neighbourhood is the physical location of the owners of the property, which might not be important since we analyzing the property itself, not their owner. There might be cases where this could be useful (for example, if we have more information about the average income of where they live) but not here.\n",
    "\n",
    "host_about is the host introduction of themselves. We will need NLP again.\n",
    "\n",
    "host_verifications is the method the owners use to verify/confirm the booking. Pretty standard in today’s world (email, facebook, etc.). Email is the minimum standard and let’s be honest, who cares about the rest ?\n",
    "\n",
    "Let’s drop all these."
   ]
  },
  {
   "cell_type": "code",
   "execution_count": 12,
   "metadata": {},
   "outputs": [],
   "source": [
    "listing_df_clean = listing_df_clean.drop (['host_location','host_about', 'host_verifications', 'host_neighbourhood'], axis = 1)"
   ]
  },
  {
   "cell_type": "markdown",
   "metadata": {},
   "source": [
    "Let's take a look at the neighbourhood columns:\n"
   ]
  },
  {
   "cell_type": "code",
   "execution_count": 13,
   "metadata": {},
   "outputs": [
    {
     "data": {
      "text/plain": [
       "Capitol Hill          351\n",
       "Ballard               213\n",
       "Belltown              204\n",
       "Minor                 192\n",
       "Queen Anne            187\n",
       "                     ... \n",
       "Pike Market             2\n",
       "South Park              2\n",
       "Fairmount Park          1\n",
       "North College Park      1\n",
       "Roxhill                 1\n",
       "Name: neighbourhood, Length: 81, dtype: int64"
      ]
     },
     "execution_count": 13,
     "metadata": {},
     "output_type": "execute_result"
    }
   ],
   "source": [
    "listing_df_clean['neighbourhood'].value_counts()"
   ]
  },
  {
   "cell_type": "code",
   "execution_count": 14,
   "metadata": {},
   "outputs": [
    {
     "data": {
      "text/plain": [
       "Broadway             397\n",
       "Belltown             234\n",
       "Wallingford          167\n",
       "Fremont              158\n",
       "Minor                135\n",
       "                    ... \n",
       "Arbor Heights          5\n",
       "South Beacon Hill      4\n",
       "Pinehurst              4\n",
       "South Park             3\n",
       "Roxhill                2\n",
       "Name: neighbourhood_cleansed, Length: 87, dtype: int64"
      ]
     },
     "execution_count": 14,
     "metadata": {},
     "output_type": "execute_result"
    }
   ],
   "source": [
    "listing_df_clean['neighbourhood_cleansed'].value_counts()"
   ]
  },
  {
   "cell_type": "code",
   "execution_count": 15,
   "metadata": {},
   "outputs": [
    {
     "data": {
      "text/plain": [
       "Other neighborhoods    794\n",
       "Capitol Hill           567\n",
       "Downtown               530\n",
       "Central Area           369\n",
       "Queen Anne             295\n",
       "Ballard                230\n",
       "West Seattle           203\n",
       "Rainier Valley         159\n",
       "University District    122\n",
       "Beacon Hill            118\n",
       "Cascade                 89\n",
       "Northgate               80\n",
       "Delridge                79\n",
       "Lake City               67\n",
       "Magnolia                61\n",
       "Seward Park             44\n",
       "Interbay                11\n",
       "Name: neighbourhood_group_cleansed, dtype: int64"
      ]
     },
     "execution_count": 15,
     "metadata": {},
     "output_type": "execute_result"
    }
   ],
   "source": [
    "listing_df_clean['neighbourhood_group_cleansed'].value_counts()"
   ]
  },
  {
   "cell_type": "markdown",
   "metadata": {},
   "source": [
    "‘neighbourhood’, ‘neighbourhood_cleansed’ and ‘neighbourhood_group_cleansed’ looks pretty similar to each other. We should only use one of these. Let’s use neighbourhood_group_cleansed since it contains less unique values, so we can avoid overfitting when we one hot encode this to fit our model later. Zipcode is also redundant here. Street is too detailed information and can lead to overfitting as well."
   ]
  },
  {
   "cell_type": "code",
   "execution_count": 16,
   "metadata": {},
   "outputs": [],
   "source": [
    "listing_df_clean = listing_df_clean.drop (['neighbourhood','neighbourhood_cleansed', 'zipcode','street'], axis = 1)"
   ]
  },
  {
   "cell_type": "markdown",
   "metadata": {},
   "source": [
    "We will also drop the price columns since we know for a fact that the price set by the owner heavily influent the final listing price. We want to look at the rest of the features to find which one is more important"
   ]
  },
  {
   "cell_type": "code",
   "execution_count": 17,
   "metadata": {},
   "outputs": [],
   "source": [
    "listing_df_clean = listing_df_clean.drop (['weekly_price','monthly_price','price'], axis = 1)"
   ]
  },
  {
   "cell_type": "markdown",
   "metadata": {},
   "source": [
    "There are some categorical features which is really not categorical in nature. They are instead boolean. We will convert all of these boolean features into integer with 0 and 1, also we will impute all the missing value with 0 as well"
   ]
  },
  {
   "cell_type": "code",
   "execution_count": 18,
   "metadata": {},
   "outputs": [],
   "source": [
    "boolean_df = ['host_is_superhost','host_has_profile_pic',\n",
    "                               'host_identity_verified', 'is_location_exact',\n",
    "                               'instant_bookable','require_guest_profile_picture','require_guest_phone_verification']\n",
    "listing_df_clean[boolean_df] = listing_df_clean[boolean_df].applymap(lambda x: 1 if x == \"t\" else 0)"
   ]
  },
  {
   "cell_type": "markdown",
   "metadata": {},
   "source": [
    "There are some categorical features which is actually numerical. They are related to currency or percentage. For currency, we will remove the dollar sign and convert them to float. For percentage, we will remove the sign and divide by 100."
   ]
  },
  {
   "cell_type": "code",
   "execution_count": 19,
   "metadata": {},
   "outputs": [],
   "source": [
    "currency_col = ['security_deposit', 'cleaning_fee','extra_people']\n",
    "for col in currency_col: \n",
    "    listing_df_clean[col] = listing_df_clean[col].str.replace(\"[$,]\",\"\").astype(float)"
   ]
  },
  {
   "cell_type": "code",
   "execution_count": 20,
   "metadata": {},
   "outputs": [],
   "source": [
    "rate_col = ['host_response_rate', 'host_acceptance_rate']\n",
    "for col in rate_col: \n",
    "    listing_df_clean[col] = listing_df_clean[col].str.replace(\"[%]\",\"\").astype(float).apply(lambda x: x/100).fillna(0)"
   ]
  },
  {
   "cell_type": "markdown",
   "metadata": {},
   "source": [
    "There are some features related to date and time. First we will need to convert them to timestamp. Second, it doesn't make much sense to just use the timestamp since there is little useful information there. We will instead convert them to day difference between the datetime value and the date that the data was collected "
   ]
  },
  {
   "cell_type": "code",
   "execution_count": 21,
   "metadata": {},
   "outputs": [],
   "source": [
    "time_col = ['host_since','first_review','last_review']\n",
    "basedate = pd.Timestamp('2016-01-04')\n",
    "for col in time_col:\n",
    "    listing_df_clean[col] = pd.to_datetime(listing_df_clean[col] , format = \"%Y-%m-%d\").apply(lambda x : (basedate-x).days).fillna(0)"
   ]
  },
  {
   "cell_type": "markdown",
   "metadata": {},
   "source": [
    "The amenities feature contains a list of amennities available at the property. We should break these down into boolean features like is_wifi_available or is_parking_available and give them value 1 or 0. "
   ]
  },
  {
   "cell_type": "code",
   "execution_count": 22,
   "metadata": {},
   "outputs": [],
   "source": [
    "def get_val_from_list(row, column_name, value):\n",
    "    ''' Fill in dummy column for values '''\n",
    "    val = 0.0\n",
    "    try:\n",
    "        vals = row[column_name].replace('[', '').replace(\"'\", '').replace(\"]\", '').replace('\"', '').replace('{', '').replace('}', '').split(',')\n",
    "        if value in vals:\n",
    "            val = 1.0\n",
    "    except:\n",
    "        val = 0.0\n",
    "    return val\n",
    "\n",
    "values_dict = {}\n",
    "for unique_value in listing_df_clean['amenities'].unique(): \n",
    "    for value in unique_value.replace('[', '').replace(\"'\", '').replace(\"]\", '').replace('\"', '').replace('{', '').replace('}', '').split(','):\n",
    "        if value in values_dict:\n",
    "              values_dict[value] = values_dict[value] + 1\n",
    "        else:\n",
    "              values_dict[value] = 0\n",
    "              \n",
    "values_sorted = sorted(values_dict.items(), key=lambda kv: kv[1], reverse = True)\n",
    "    \n",
    "    #split into columns\n",
    "for value in values_sorted[: 10]:\n",
    "      listing_df_clean['amenities' + '_' + value[0]] = listing_df_clean.apply(lambda row: get_val_from_list(row, 'amenities', value[0]),axis=1)\n",
    "#drop original column\n",
    "listing_df_clean = listing_df_clean.drop('amenities', axis = 1)"
   ]
  },
  {
   "cell_type": "markdown",
   "metadata": {},
   "source": [
    "One hot encoding the rest of the categorical features"
   ]
  },
  {
   "cell_type": "code",
   "execution_count": 23,
   "metadata": {},
   "outputs": [],
   "source": [
    "cat_df = listing_df_clean.select_dtypes(include = 'object')\n",
    "cat_cols_lst = cat_df.columns\n",
    "for col in cat_cols_lst:\n",
    "    listing_df_clean = pd.concat([listing_df_clean.drop(col, axis = 1), pd.get_dummies(listing_df_clean[col]\n",
    "                                                                                                , prefix = col, prefix_sep = \"_\", dummy_na = True)], axis = 1)"
   ]
  },
  {
   "cell_type": "markdown",
   "metadata": {},
   "source": [
    "For numerical features, we will take a look at how much value is missing for each column. If the number of missing value is too high then we will drop those and then impute the rest with the median value. \n"
   ]
  },
  {
   "cell_type": "code",
   "execution_count": 24,
   "metadata": {},
   "outputs": [
    {
     "data": {
      "text/plain": [
       "<matplotlib.axes._subplots.AxesSubplot at 0x17500fe2ac0>"
      ]
     },
     "execution_count": 24,
     "metadata": {},
     "output_type": "execute_result"
    },
    {
     "data": {
      "image/png": "[encoded data removed]",
      "text/plain": [
       "<Figure size 432x288 with 1 Axes>"
      ]
     },
     "metadata": {
      "needs_background": "light"
     },
     "output_type": "display_data"
    }
   ],
   "source": [
    "#extracting numerical feature\n",
    "num_df = listing_df.select_dtypes(exclude = 'object')\n",
    "# calculate percentage of missing value\n",
    "listing_missing_num = num_df.isnull().mean()*100\n",
    "\n",
    "#plot the results\n",
    "nan_col = listing_missing_num[listing_missing_num>0]\n",
    "nan_col.plot.bar()"
   ]
  },
  {
   "cell_type": "markdown",
   "metadata": {},
   "source": [
    "Looks like we can drop square_feet and license since these are almost 100% empty. We can also drop longitude, latitude, scrape_id and host_id since it is irrelevant."
   ]
  },
  {
   "cell_type": "code",
   "execution_count": 25,
   "metadata": {},
   "outputs": [],
   "source": [
    "# dropping columns\n",
    "listing_df_clean = listing_df_clean.drop(['square_feet', 'license','scrape_id', 'host_id','longitude','latitude'], axis = 1)\n",
    "\n",
    "# fill the rest with median\n",
    "listing_df_clean = listing_df_clean.fillna(listing_df_clean.median())"
   ]
  },
  {
   "cell_type": "markdown",
   "metadata": {},
   "source": [
    "### Calendar table:\n",
    "We will need to do some cleaning with the calendar table as well. \n",
    "\n",
    "Similar to what we did with the listing table, we will convert price from string to float value by removing the \"$\" and convert the datatype\n",
    "\n",
    "Also the date grain is too small. We will convert them into month of year and then one hot encode them. We want to see which month is the most important in term of driving the price.\n",
    "\n",
    "Finally we will remove all the rows which does not contain a listing price and also drop the available column since it will contain only 1 value after we remove the empty rows"
   ]
  },
  {
   "cell_type": "code",
   "execution_count": 26,
   "metadata": {},
   "outputs": [],
   "source": [
    "#dropping available column\n",
    "calendar_df_clean = calendar_df.drop('available', axis = 1)\n",
    "#changing datatype of date column to datetime and convert to month\n",
    "calendar_df_clean['date'] = pd.to_datetime(calendar_df_clean['date'] , format = \"%Y-%m-%d\").dt.month.astype(str)\n",
    "#convert price to float values\n",
    "calendar_df_clean['price'] = calendar_df_clean['price'].str.replace(\"[$,]\",\"\").astype(float)\n",
    "#renaming columns\n",
    "calendar_df_clean = calendar_df_clean.rename(columns = {'date': \"month\", 'price':'listing_price'})\n",
    "#drop NaN and one hot encoding\n",
    "calendar_df_clean = calendar_df_clean.dropna(axis=0)\n",
    "calendar_df_clean= pd.concat([calendar_df_clean.drop('month', axis =1), pd.get_dummies(calendar_df_clean['month'], prefix ='month')], axis = 1)\n"
   ]
  },
  {
   "cell_type": "code",
   "execution_count": 27,
   "metadata": {},
   "outputs": [
    {
     "data": {
      "text/html": [
       "<div>\n",
       "<style scoped>\n",
       "    .dataframe tbody tr th:only-of-type {\n",
       "        vertical-align: middle;\n",
       "    }\n",
       "\n",
       "    .dataframe tbody tr th {\n",
       "        vertical-align: top;\n",
       "    }\n",
       "\n",
       "    .dataframe thead th {\n",
       "        text-align: right;\n",
       "    }\n",
       "</style>\n",
       "<table border=\"1\" class=\"dataframe\">\n",
       "  <thead>\n",
       "    <tr style=\"text-align: right;\">\n",
       "      <th></th>\n",
       "      <th>listing_id</th>\n",
       "      <th>listing_price</th>\n",
       "      <th>month_1</th>\n",
       "      <th>month_10</th>\n",
       "      <th>month_11</th>\n",
       "      <th>month_12</th>\n",
       "      <th>month_2</th>\n",
       "      <th>month_3</th>\n",
       "      <th>month_4</th>\n",
       "      <th>month_5</th>\n",
       "      <th>month_6</th>\n",
       "      <th>month_7</th>\n",
       "      <th>month_8</th>\n",
       "      <th>month_9</th>\n",
       "    </tr>\n",
       "  </thead>\n",
       "  <tbody>\n",
       "    <tr>\n",
       "      <th>0</th>\n",
       "      <td>241032</td>\n",
       "      <td>85.0</td>\n",
       "      <td>1</td>\n",
       "      <td>0</td>\n",
       "      <td>0</td>\n",
       "      <td>0</td>\n",
       "      <td>0</td>\n",
       "      <td>0</td>\n",
       "      <td>0</td>\n",
       "      <td>0</td>\n",
       "      <td>0</td>\n",
       "      <td>0</td>\n",
       "      <td>0</td>\n",
       "      <td>0</td>\n",
       "    </tr>\n",
       "    <tr>\n",
       "      <th>1</th>\n",
       "      <td>241032</td>\n",
       "      <td>85.0</td>\n",
       "      <td>1</td>\n",
       "      <td>0</td>\n",
       "      <td>0</td>\n",
       "      <td>0</td>\n",
       "      <td>0</td>\n",
       "      <td>0</td>\n",
       "      <td>0</td>\n",
       "      <td>0</td>\n",
       "      <td>0</td>\n",
       "      <td>0</td>\n",
       "      <td>0</td>\n",
       "      <td>0</td>\n",
       "    </tr>\n",
       "    <tr>\n",
       "      <th>9</th>\n",
       "      <td>241032</td>\n",
       "      <td>85.0</td>\n",
       "      <td>1</td>\n",
       "      <td>0</td>\n",
       "      <td>0</td>\n",
       "      <td>0</td>\n",
       "      <td>0</td>\n",
       "      <td>0</td>\n",
       "      <td>0</td>\n",
       "      <td>0</td>\n",
       "      <td>0</td>\n",
       "      <td>0</td>\n",
       "      <td>0</td>\n",
       "      <td>0</td>\n",
       "    </tr>\n",
       "    <tr>\n",
       "      <th>10</th>\n",
       "      <td>241032</td>\n",
       "      <td>85.0</td>\n",
       "      <td>1</td>\n",
       "      <td>0</td>\n",
       "      <td>0</td>\n",
       "      <td>0</td>\n",
       "      <td>0</td>\n",
       "      <td>0</td>\n",
       "      <td>0</td>\n",
       "      <td>0</td>\n",
       "      <td>0</td>\n",
       "      <td>0</td>\n",
       "      <td>0</td>\n",
       "      <td>0</td>\n",
       "    </tr>\n",
       "    <tr>\n",
       "      <th>14</th>\n",
       "      <td>241032</td>\n",
       "      <td>85.0</td>\n",
       "      <td>1</td>\n",
       "      <td>0</td>\n",
       "      <td>0</td>\n",
       "      <td>0</td>\n",
       "      <td>0</td>\n",
       "      <td>0</td>\n",
       "      <td>0</td>\n",
       "      <td>0</td>\n",
       "      <td>0</td>\n",
       "      <td>0</td>\n",
       "      <td>0</td>\n",
       "      <td>0</td>\n",
       "    </tr>\n",
       "    <tr>\n",
       "      <th>...</th>\n",
       "      <td>...</td>\n",
       "      <td>...</td>\n",
       "      <td>...</td>\n",
       "      <td>...</td>\n",
       "      <td>...</td>\n",
       "      <td>...</td>\n",
       "      <td>...</td>\n",
       "      <td>...</td>\n",
       "      <td>...</td>\n",
       "      <td>...</td>\n",
       "      <td>...</td>\n",
       "      <td>...</td>\n",
       "      <td>...</td>\n",
       "      <td>...</td>\n",
       "    </tr>\n",
       "    <tr>\n",
       "      <th>1393207</th>\n",
       "      <td>10208623</td>\n",
       "      <td>87.0</td>\n",
       "      <td>1</td>\n",
       "      <td>0</td>\n",
       "      <td>0</td>\n",
       "      <td>0</td>\n",
       "      <td>0</td>\n",
       "      <td>0</td>\n",
       "      <td>0</td>\n",
       "      <td>0</td>\n",
       "      <td>0</td>\n",
       "      <td>0</td>\n",
       "      <td>0</td>\n",
       "      <td>0</td>\n",
       "    </tr>\n",
       "    <tr>\n",
       "      <th>1393208</th>\n",
       "      <td>10208623</td>\n",
       "      <td>87.0</td>\n",
       "      <td>1</td>\n",
       "      <td>0</td>\n",
       "      <td>0</td>\n",
       "      <td>0</td>\n",
       "      <td>0</td>\n",
       "      <td>0</td>\n",
       "      <td>0</td>\n",
       "      <td>0</td>\n",
       "      <td>0</td>\n",
       "      <td>0</td>\n",
       "      <td>0</td>\n",
       "      <td>0</td>\n",
       "    </tr>\n",
       "    <tr>\n",
       "      <th>1393211</th>\n",
       "      <td>10208623</td>\n",
       "      <td>87.0</td>\n",
       "      <td>1</td>\n",
       "      <td>0</td>\n",
       "      <td>0</td>\n",
       "      <td>0</td>\n",
       "      <td>0</td>\n",
       "      <td>0</td>\n",
       "      <td>0</td>\n",
       "      <td>0</td>\n",
       "      <td>0</td>\n",
       "      <td>0</td>\n",
       "      <td>0</td>\n",
       "      <td>0</td>\n",
       "    </tr>\n",
       "    <tr>\n",
       "      <th>1393212</th>\n",
       "      <td>10208623</td>\n",
       "      <td>87.0</td>\n",
       "      <td>1</td>\n",
       "      <td>0</td>\n",
       "      <td>0</td>\n",
       "      <td>0</td>\n",
       "      <td>0</td>\n",
       "      <td>0</td>\n",
       "      <td>0</td>\n",
       "      <td>0</td>\n",
       "      <td>0</td>\n",
       "      <td>0</td>\n",
       "      <td>0</td>\n",
       "      <td>0</td>\n",
       "    </tr>\n",
       "    <tr>\n",
       "      <th>1393213</th>\n",
       "      <td>10208623</td>\n",
       "      <td>87.0</td>\n",
       "      <td>1</td>\n",
       "      <td>0</td>\n",
       "      <td>0</td>\n",
       "      <td>0</td>\n",
       "      <td>0</td>\n",
       "      <td>0</td>\n",
       "      <td>0</td>\n",
       "      <td>0</td>\n",
       "      <td>0</td>\n",
       "      <td>0</td>\n",
       "      <td>0</td>\n",
       "      <td>0</td>\n",
       "    </tr>\n",
       "  </tbody>\n",
       "</table>\n",
       "<p>934542 rows × 14 columns</p>\n",
       "</div>"
      ],
      "text/plain": [
       "         listing_id  listing_price  month_1  month_10  month_11  month_12  \\\n",
       "0            241032           85.0        1         0         0         0   \n",
       "1            241032           85.0        1         0         0         0   \n",
       "9            241032           85.0        1         0         0         0   \n",
       "10           241032           85.0        1         0         0         0   \n",
       "14           241032           85.0        1         0         0         0   \n",
       "...             ...            ...      ...       ...       ...       ...   \n",
       "1393207    10208623           87.0        1         0         0         0   \n",
       "1393208    10208623           87.0        1         0         0         0   \n",
       "1393211    10208623           87.0        1         0         0         0   \n",
       "1393212    10208623           87.0        1         0         0         0   \n",
       "1393213    10208623           87.0        1         0         0         0   \n",
       "\n",
       "         month_2  month_3  month_4  month_5  month_6  month_7  month_8  \\\n",
       "0              0        0        0        0        0        0        0   \n",
       "1              0        0        0        0        0        0        0   \n",
       "9              0        0        0        0        0        0        0   \n",
       "10             0        0        0        0        0        0        0   \n",
       "14             0        0        0        0        0        0        0   \n",
       "...          ...      ...      ...      ...      ...      ...      ...   \n",
       "1393207        0        0        0        0        0        0        0   \n",
       "1393208        0        0        0        0        0        0        0   \n",
       "1393211        0        0        0        0        0        0        0   \n",
       "1393212        0        0        0        0        0        0        0   \n",
       "1393213        0        0        0        0        0        0        0   \n",
       "\n",
       "         month_9  \n",
       "0              0  \n",
       "1              0  \n",
       "9              0  \n",
       "10             0  \n",
       "14             0  \n",
       "...          ...  \n",
       "1393207        0  \n",
       "1393208        0  \n",
       "1393211        0  \n",
       "1393212        0  \n",
       "1393213        0  \n",
       "\n",
       "[934542 rows x 14 columns]"
      ]
     },
     "execution_count": 27,
     "metadata": {},
     "output_type": "execute_result"
    }
   ],
   "source": [
    "calendar_df_clean"
   ]
  },
  {
   "cell_type": "markdown",
   "metadata": {},
   "source": [
    "For our final DataFrame, we need to join the calendar table with the listing table using \"listing_id\" and \"id\""
   ]
  },
  {
   "cell_type": "code",
   "execution_count": 28,
   "metadata": {},
   "outputs": [],
   "source": [
    "final_df = pd.merge (calendar_df_clean, listing_df_clean, how = 'left', left_on = 'listing_id', right_on = 'id' )"
   ]
  },
  {
   "cell_type": "code",
   "execution_count": 29,
   "metadata": {},
   "outputs": [
    {
     "data": {
      "text/html": [
       "<div>\n",
       "<style scoped>\n",
       "    .dataframe tbody tr th:only-of-type {\n",
       "        vertical-align: middle;\n",
       "    }\n",
       "\n",
       "    .dataframe tbody tr th {\n",
       "        vertical-align: top;\n",
       "    }\n",
       "\n",
       "    .dataframe thead th {\n",
       "        text-align: right;\n",
       "    }\n",
       "</style>\n",
       "<table border=\"1\" class=\"dataframe\">\n",
       "  <thead>\n",
       "    <tr style=\"text-align: right;\">\n",
       "      <th></th>\n",
       "      <th>listing_id</th>\n",
       "      <th>listing_price</th>\n",
       "      <th>month_1</th>\n",
       "      <th>month_10</th>\n",
       "      <th>month_11</th>\n",
       "      <th>month_12</th>\n",
       "      <th>month_2</th>\n",
       "      <th>month_3</th>\n",
       "      <th>month_4</th>\n",
       "      <th>month_5</th>\n",
       "      <th>...</th>\n",
       "      <th>bed_type_Airbed</th>\n",
       "      <th>bed_type_Couch</th>\n",
       "      <th>bed_type_Futon</th>\n",
       "      <th>bed_type_Pull-out Sofa</th>\n",
       "      <th>bed_type_Real Bed</th>\n",
       "      <th>bed_type_nan</th>\n",
       "      <th>cancellation_policy_flexible</th>\n",
       "      <th>cancellation_policy_moderate</th>\n",
       "      <th>cancellation_policy_strict</th>\n",
       "      <th>cancellation_policy_nan</th>\n",
       "    </tr>\n",
       "  </thead>\n",
       "  <tbody>\n",
       "    <tr>\n",
       "      <th>0</th>\n",
       "      <td>241032</td>\n",
       "      <td>85.0</td>\n",
       "      <td>1</td>\n",
       "      <td>0</td>\n",
       "      <td>0</td>\n",
       "      <td>0</td>\n",
       "      <td>0</td>\n",
       "      <td>0</td>\n",
       "      <td>0</td>\n",
       "      <td>0</td>\n",
       "      <td>...</td>\n",
       "      <td>0</td>\n",
       "      <td>0</td>\n",
       "      <td>0</td>\n",
       "      <td>0</td>\n",
       "      <td>1</td>\n",
       "      <td>0</td>\n",
       "      <td>0</td>\n",
       "      <td>1</td>\n",
       "      <td>0</td>\n",
       "      <td>0</td>\n",
       "    </tr>\n",
       "    <tr>\n",
       "      <th>1</th>\n",
       "      <td>241032</td>\n",
       "      <td>85.0</td>\n",
       "      <td>1</td>\n",
       "      <td>0</td>\n",
       "      <td>0</td>\n",
       "      <td>0</td>\n",
       "      <td>0</td>\n",
       "      <td>0</td>\n",
       "      <td>0</td>\n",
       "      <td>0</td>\n",
       "      <td>...</td>\n",
       "      <td>0</td>\n",
       "      <td>0</td>\n",
       "      <td>0</td>\n",
       "      <td>0</td>\n",
       "      <td>1</td>\n",
       "      <td>0</td>\n",
       "      <td>0</td>\n",
       "      <td>1</td>\n",
       "      <td>0</td>\n",
       "      <td>0</td>\n",
       "    </tr>\n",
       "    <tr>\n",
       "      <th>2</th>\n",
       "      <td>241032</td>\n",
       "      <td>85.0</td>\n",
       "      <td>1</td>\n",
       "      <td>0</td>\n",
       "      <td>0</td>\n",
       "      <td>0</td>\n",
       "      <td>0</td>\n",
       "      <td>0</td>\n",
       "      <td>0</td>\n",
       "      <td>0</td>\n",
       "      <td>...</td>\n",
       "      <td>0</td>\n",
       "      <td>0</td>\n",
       "      <td>0</td>\n",
       "      <td>0</td>\n",
       "      <td>1</td>\n",
       "      <td>0</td>\n",
       "      <td>0</td>\n",
       "      <td>1</td>\n",
       "      <td>0</td>\n",
       "      <td>0</td>\n",
       "    </tr>\n",
       "    <tr>\n",
       "      <th>3</th>\n",
       "      <td>241032</td>\n",
       "      <td>85.0</td>\n",
       "      <td>1</td>\n",
       "      <td>0</td>\n",
       "      <td>0</td>\n",
       "      <td>0</td>\n",
       "      <td>0</td>\n",
       "      <td>0</td>\n",
       "      <td>0</td>\n",
       "      <td>0</td>\n",
       "      <td>...</td>\n",
       "      <td>0</td>\n",
       "      <td>0</td>\n",
       "      <td>0</td>\n",
       "      <td>0</td>\n",
       "      <td>1</td>\n",
       "      <td>0</td>\n",
       "      <td>0</td>\n",
       "      <td>1</td>\n",
       "      <td>0</td>\n",
       "      <td>0</td>\n",
       "    </tr>\n",
       "    <tr>\n",
       "      <th>4</th>\n",
       "      <td>241032</td>\n",
       "      <td>85.0</td>\n",
       "      <td>1</td>\n",
       "      <td>0</td>\n",
       "      <td>0</td>\n",
       "      <td>0</td>\n",
       "      <td>0</td>\n",
       "      <td>0</td>\n",
       "      <td>0</td>\n",
       "      <td>0</td>\n",
       "      <td>...</td>\n",
       "      <td>0</td>\n",
       "      <td>0</td>\n",
       "      <td>0</td>\n",
       "      <td>0</td>\n",
       "      <td>1</td>\n",
       "      <td>0</td>\n",
       "      <td>0</td>\n",
       "      <td>1</td>\n",
       "      <td>0</td>\n",
       "      <td>0</td>\n",
       "    </tr>\n",
       "    <tr>\n",
       "      <th>...</th>\n",
       "      <td>...</td>\n",
       "      <td>...</td>\n",
       "      <td>...</td>\n",
       "      <td>...</td>\n",
       "      <td>...</td>\n",
       "      <td>...</td>\n",
       "      <td>...</td>\n",
       "      <td>...</td>\n",
       "      <td>...</td>\n",
       "      <td>...</td>\n",
       "      <td>...</td>\n",
       "      <td>...</td>\n",
       "      <td>...</td>\n",
       "      <td>...</td>\n",
       "      <td>...</td>\n",
       "      <td>...</td>\n",
       "      <td>...</td>\n",
       "      <td>...</td>\n",
       "      <td>...</td>\n",
       "      <td>...</td>\n",
       "      <td>...</td>\n",
       "    </tr>\n",
       "    <tr>\n",
       "      <th>934537</th>\n",
       "      <td>10208623</td>\n",
       "      <td>87.0</td>\n",
       "      <td>1</td>\n",
       "      <td>0</td>\n",
       "      <td>0</td>\n",
       "      <td>0</td>\n",
       "      <td>0</td>\n",
       "      <td>0</td>\n",
       "      <td>0</td>\n",
       "      <td>0</td>\n",
       "      <td>...</td>\n",
       "      <td>0</td>\n",
       "      <td>0</td>\n",
       "      <td>0</td>\n",
       "      <td>0</td>\n",
       "      <td>1</td>\n",
       "      <td>0</td>\n",
       "      <td>1</td>\n",
       "      <td>0</td>\n",
       "      <td>0</td>\n",
       "      <td>0</td>\n",
       "    </tr>\n",
       "    <tr>\n",
       "      <th>934538</th>\n",
       "      <td>10208623</td>\n",
       "      <td>87.0</td>\n",
       "      <td>1</td>\n",
       "      <td>0</td>\n",
       "      <td>0</td>\n",
       "      <td>0</td>\n",
       "      <td>0</td>\n",
       "      <td>0</td>\n",
       "      <td>0</td>\n",
       "      <td>0</td>\n",
       "      <td>...</td>\n",
       "      <td>0</td>\n",
       "      <td>0</td>\n",
       "      <td>0</td>\n",
       "      <td>0</td>\n",
       "      <td>1</td>\n",
       "      <td>0</td>\n",
       "      <td>1</td>\n",
       "      <td>0</td>\n",
       "      <td>0</td>\n",
       "      <td>0</td>\n",
       "    </tr>\n",
       "    <tr>\n",
       "      <th>934539</th>\n",
       "      <td>10208623</td>\n",
       "      <td>87.0</td>\n",
       "      <td>1</td>\n",
       "      <td>0</td>\n",
       "      <td>0</td>\n",
       "      <td>0</td>\n",
       "      <td>0</td>\n",
       "      <td>0</td>\n",
       "      <td>0</td>\n",
       "      <td>0</td>\n",
       "      <td>...</td>\n",
       "      <td>0</td>\n",
       "      <td>0</td>\n",
       "      <td>0</td>\n",
       "      <td>0</td>\n",
       "      <td>1</td>\n",
       "      <td>0</td>\n",
       "      <td>1</td>\n",
       "      <td>0</td>\n",
       "      <td>0</td>\n",
       "      <td>0</td>\n",
       "    </tr>\n",
       "    <tr>\n",
       "      <th>934540</th>\n",
       "      <td>10208623</td>\n",
       "      <td>87.0</td>\n",
       "      <td>1</td>\n",
       "      <td>0</td>\n",
       "      <td>0</td>\n",
       "      <td>0</td>\n",
       "      <td>0</td>\n",
       "      <td>0</td>\n",
       "      <td>0</td>\n",
       "      <td>0</td>\n",
       "      <td>...</td>\n",
       "      <td>0</td>\n",
       "      <td>0</td>\n",
       "      <td>0</td>\n",
       "      <td>0</td>\n",
       "      <td>1</td>\n",
       "      <td>0</td>\n",
       "      <td>1</td>\n",
       "      <td>0</td>\n",
       "      <td>0</td>\n",
       "      <td>0</td>\n",
       "    </tr>\n",
       "    <tr>\n",
       "      <th>934541</th>\n",
       "      <td>10208623</td>\n",
       "      <td>87.0</td>\n",
       "      <td>1</td>\n",
       "      <td>0</td>\n",
       "      <td>0</td>\n",
       "      <td>0</td>\n",
       "      <td>0</td>\n",
       "      <td>0</td>\n",
       "      <td>0</td>\n",
       "      <td>0</td>\n",
       "      <td>...</td>\n",
       "      <td>0</td>\n",
       "      <td>0</td>\n",
       "      <td>0</td>\n",
       "      <td>0</td>\n",
       "      <td>1</td>\n",
       "      <td>0</td>\n",
       "      <td>1</td>\n",
       "      <td>0</td>\n",
       "      <td>0</td>\n",
       "      <td>0</td>\n",
       "    </tr>\n",
       "  </tbody>\n",
       "</table>\n",
       "<p>934542 rows × 117 columns</p>\n",
       "</div>"
      ],
      "text/plain": [
       "        listing_id  listing_price  month_1  month_10  month_11  month_12  \\\n",
       "0           241032           85.0        1         0         0         0   \n",
       "1           241032           85.0        1         0         0         0   \n",
       "2           241032           85.0        1         0         0         0   \n",
       "3           241032           85.0        1         0         0         0   \n",
       "4           241032           85.0        1         0         0         0   \n",
       "...            ...            ...      ...       ...       ...       ...   \n",
       "934537    10208623           87.0        1         0         0         0   \n",
       "934538    10208623           87.0        1         0         0         0   \n",
       "934539    10208623           87.0        1         0         0         0   \n",
       "934540    10208623           87.0        1         0         0         0   \n",
       "934541    10208623           87.0        1         0         0         0   \n",
       "\n",
       "        month_2  month_3  month_4  month_5  ...  bed_type_Airbed  \\\n",
       "0             0        0        0        0  ...                0   \n",
       "1             0        0        0        0  ...                0   \n",
       "2             0        0        0        0  ...                0   \n",
       "3             0        0        0        0  ...                0   \n",
       "4             0        0        0        0  ...                0   \n",
       "...         ...      ...      ...      ...  ...              ...   \n",
       "934537        0        0        0        0  ...                0   \n",
       "934538        0        0        0        0  ...                0   \n",
       "934539        0        0        0        0  ...                0   \n",
       "934540        0        0        0        0  ...                0   \n",
       "934541        0        0        0        0  ...                0   \n",
       "\n",
       "        bed_type_Couch  bed_type_Futon  bed_type_Pull-out Sofa  \\\n",
       "0                    0               0                       0   \n",
       "1                    0               0                       0   \n",
       "2                    0               0                       0   \n",
       "3                    0               0                       0   \n",
       "4                    0               0                       0   \n",
       "...                ...             ...                     ...   \n",
       "934537               0               0                       0   \n",
       "934538               0               0                       0   \n",
       "934539               0               0                       0   \n",
       "934540               0               0                       0   \n",
       "934541               0               0                       0   \n",
       "\n",
       "        bed_type_Real Bed  bed_type_nan  cancellation_policy_flexible  \\\n",
       "0                       1             0                             0   \n",
       "1                       1             0                             0   \n",
       "2                       1             0                             0   \n",
       "3                       1             0                             0   \n",
       "4                       1             0                             0   \n",
       "...                   ...           ...                           ...   \n",
       "934537                  1             0                             1   \n",
       "934538                  1             0                             1   \n",
       "934539                  1             0                             1   \n",
       "934540                  1             0                             1   \n",
       "934541                  1             0                             1   \n",
       "\n",
       "        cancellation_policy_moderate  cancellation_policy_strict  \\\n",
       "0                                  1                           0   \n",
       "1                                  1                           0   \n",
       "2                                  1                           0   \n",
       "3                                  1                           0   \n",
       "4                                  1                           0   \n",
       "...                              ...                         ...   \n",
       "934537                             0                           0   \n",
       "934538                             0                           0   \n",
       "934539                             0                           0   \n",
       "934540                             0                           0   \n",
       "934541                             0                           0   \n",
       "\n",
       "        cancellation_policy_nan  \n",
       "0                             0  \n",
       "1                             0  \n",
       "2                             0  \n",
       "3                             0  \n",
       "4                             0  \n",
       "...                         ...  \n",
       "934537                        0  \n",
       "934538                        0  \n",
       "934539                        0  \n",
       "934540                        0  \n",
       "934541                        0  \n",
       "\n",
       "[934542 rows x 117 columns]"
      ]
     },
     "execution_count": 29,
     "metadata": {},
     "output_type": "execute_result"
    }
   ],
   "source": [
    "final_df"
   ]
  },
  {
   "cell_type": "markdown",
   "metadata": {},
   "source": [
    "### Data Modeling"
   ]
  },
  {
   "cell_type": "markdown",
   "metadata": {},
   "source": [
    "Split into train and test dataset"
   ]
  },
  {
   "cell_type": "code",
   "execution_count": 30,
   "metadata": {},
   "outputs": [],
   "source": [
    "test_size = 0.3\n",
    "random_seed = 42\n",
    "\n",
    "X = final_df.drop('listing_price', axis = 1)\n",
    "y = final_df['listing_price']\n",
    "\n",
    "X_train, X_test, y_train, y_test = train_test_split(X,y, test_size = test_size, random_state = random_seed)"
   ]
  },
  {
   "cell_type": "markdown",
   "metadata": {},
   "source": [
    "Fit and train model"
   ]
  },
  {
   "cell_type": "code",
   "execution_count": 31,
   "metadata": {},
   "outputs": [
    {
     "name": "stdout",
     "output_type": "stream",
     "text": [
      "Random Forest MSE train: 186.466, test: 210.517\n",
      "Random Forest R^2 train: 0.983, test: 0.981\n"
     ]
    }
   ],
   "source": [
    "#train RF regressor model\n",
    "forest = RandomForestRegressor(n_estimators=100, \n",
    "                               criterion='mse', \n",
    "                               random_state=random_seed, \n",
    "                               n_jobs=-1)\n",
    "forest.fit(X_train, y_train.squeeze())\n",
    "\n",
    "#calculate scores for the model\n",
    "y_train_preds = forest.predict(X_train)\n",
    "y_test_preds = forest.predict(X_test)\n",
    "\n",
    "print('Random Forest MSE train: %.3f, test: %.3f' % (\n",
    "        mean_squared_error(y_train, y_train_preds),\n",
    "        mean_squared_error(y_test, y_test_preds)))\n",
    "print('Random Forest R^2 train: %.3f, test: %.3f' % (\n",
    "        r2_score(y_train, y_train_preds),\n",
    "        r2_score(y_test, y_test_preds)))"
   ]
  },
  {
   "cell_type": "markdown",
   "metadata": {},
   "source": [
    "### Evaluation "
   ]
  },
  {
   "cell_type": "markdown",
   "metadata": {},
   "source": [
    "### Question 1 : What is the most important factor for listing_price:\n",
    "\n",
    "From the chart, we see that the two most important features are number of bedroom and number of bathroom. It fits with our common sense: bigger room is more expensive. It is the same with all hotels and motels in the world. \n",
    "\n",
    "Apart from that, the next couple of important features are : cleaning_fee, room_type and reviews per month. These also make sense\n",
    "\n",
    "\n"
   ]
  },
  {
   "cell_type": "code",
   "execution_count": 32,
   "metadata": {},
   "outputs": [
    {
     "data": {
      "image/png": "[encoded data removed]",
      "text/plain": [
       "<Figure size 720x360 with 1 Axes>"
      ]
     },
     "metadata": {
      "needs_background": "light"
     },
     "output_type": "display_data"
    }
   ],
   "source": [
    "#get feature importances from the model\n",
    "headers = [\"name\", \"score\"]\n",
    "values = sorted(zip(X_train.columns, forest.feature_importances_), key=lambda x: x[1] * -1)\n",
    "forest_feature_importances = pd.DataFrame(values, columns = headers)\n",
    "forest_feature_importances = forest_feature_importances.sort_values(by = ['score'], ascending = False)\n",
    "\n",
    "features = forest_feature_importances['name'][:15]\n",
    "y_pos = np.arange(len(features))\n",
    "scores = forest_feature_importances['score'][:15]\n",
    "\n",
    "#plot feature importances\n",
    "plt.figure(figsize=(10,5))\n",
    "plt.bar(y_pos, scores, align='center', alpha=0.5)\n",
    "plt.xticks(y_pos, features, rotation='vertical')\n",
    "plt.ylabel('Score')\n",
    "plt.xlabel('Features')\n",
    "plt.title('Feature importances (Random Forest)')\n",
    "\n",
    "plt.savefig('feature importances RF.png')\n",
    " \n",
    "plt.show()"
   ]
  },
  {
   "cell_type": "markdown",
   "metadata": {},
   "source": [
    "### Question 2 : Does the location of the property affect the price ?\n",
    "\n",
    "Surprisingly, from the chart above, we see that location is not within the top features. Only Downtown make the list. It make senses since Downtown area is always more attractiveto tourist and business travellers and therefore more expensive . \n",
    "\n",
    "We can compare which neighborhood affect the price more "
   ]
  },
  {
   "cell_type": "code",
   "execution_count": 53,
   "metadata": {},
   "outputs": [
    {
     "data": {
      "image/png": "[encoded data removed]",
      "text/plain": [
       "<Figure size 720x360 with 1 Axes>"
      ]
     },
     "metadata": {
      "needs_background": "light"
     },
     "output_type": "display_data"
    }
   ],
   "source": [
    "neighborhood = []\n",
    "for col in forest_feature_importances['name']:\n",
    "    if \"neighbourhood_group_cleansed\" in col: \n",
    "        neighborhood.append(col)\n",
    "neighborhood_features_importance = forest_feature_importances[forest_feature_importances['name'].isin(neighborhood)]\n",
    "\n",
    "\n",
    "features = neighborhood_features_importance['name'][:15]\n",
    "y_pos = np.arange(len(features))\n",
    "scores = neighborhood_features_importance['score'][:15]\n",
    "\n",
    "\n",
    "#plot feature importances\n",
    "plt.figure(figsize=(10,5))\n",
    "plt.bar(y_pos, scores, align='center', alpha=0.5)\n",
    "plt.xticks(y_pos, features, rotation='vertical')\n",
    "plt.ylabel('Score')\n",
    "plt.xlabel('Features')\n",
    "plt.title('Feature importances (Random Forest)')\n",
    "\n",
    "plt.savefig('feature importances RF.png')\n",
    " \n",
    "plt.show()"
   ]
  },
  {
   "cell_type": "markdown",
   "metadata": {},
   "source": [
    "From this chart, we see that top 3 neighborhood are Downtown, Capital Hill and Cascade, which are also very close to Downtown Area. There is a clear difference among the neighborhoods. "
   ]
  },
  {
   "cell_type": "markdown",
   "metadata": {},
   "source": [
    "### Question 3: Does the time of the booking affect the price ?\n",
    "\n",
    "From the chart, we see that June, July and August does indeed drive the price higher. This is coincide with the summer vacation. January and February is also high among the list. The difference between the rest is insignificant. \n"
   ]
  },
  {
   "cell_type": "code",
   "execution_count": 55,
   "metadata": {},
   "outputs": [
    {
     "data": {
      "image/png": "[encoded data removed]",
      "text/plain": [
       "<Figure size 720x360 with 1 Axes>"
      ]
     },
     "metadata": {
      "needs_background": "light"
     },
     "output_type": "display_data"
    }
   ],
   "source": [
    "month = []\n",
    "for col in forest_feature_importances['name']:\n",
    "    if \"month_\" in col: \n",
    "        month.append(col)\n",
    "month_features_importance = forest_feature_importances[forest_feature_importances['name'].isin(month)]\n",
    "\n",
    "\n",
    "features = month_features_importance['name'][:15]\n",
    "y_pos = np.arange(len(features))\n",
    "scores = month_features_importance['score'][:15]\n",
    "\n",
    "\n",
    "#plot feature importances\n",
    "plt.figure(figsize=(10,5))\n",
    "plt.bar(y_pos, scores, align='center', alpha=0.5)\n",
    "plt.xticks(y_pos, features, rotation='vertical')\n",
    "plt.ylabel('Score')\n",
    "plt.xlabel('Features')\n",
    "plt.title('Feature importances (Random Forest)')\n",
    "\n",
    "plt.savefig('feature importances RF.png')\n",
    " \n",
    "plt.show()"
   ]
  }
 ],
 "metadata": {
  "kernelspec": {
   "display_name": "Python 3",
   "language": "python",
   "name": "python3"
  },
  "language_info": {
   "codemirror_mode": {
    "name": "ipython",
    "version": 3
   },
   "file_extension": ".py",
   "mimetype": "text/x-python",
   "name": "python",
   "nbconvert_exporter": "python",
   "pygments_lexer": "ipython3",
   "version": "3.8.3"
  }
 },
 "nbformat": 4,
 "nbformat_minor": 4
}
